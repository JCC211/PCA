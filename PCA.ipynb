{
 "cells": [
  {
   "cell_type": "code",
   "execution_count": 13,
   "id": "d2c438c2-8aa3-400c-bfbf-f067127d18bf",
   "metadata": {},
   "outputs": [],
   "source": [
    "import pandas as pd\n",
    "import numpy as np\n",
    "from matplotlib import pyplot as plt\n",
    "from sklearn.model_selection import train_test_split\n",
    "from sklearn.preprocessing import StandardScaler\n",
    "from sklearn.linear_model import LinearRegression\n",
    "from sklearn.metrics import mean_squared_error\n",
    "from sklearn.decomposition import PCA"
   ]
  },
  {
   "cell_type": "code",
   "execution_count": 2,
   "id": "015b1167-546d-4e10-9891-45ae46c209a0",
   "metadata": {},
   "outputs": [
    {
     "name": "stdout",
     "output_type": "stream",
     "text": [
      "<class 'pandas.core.frame.DataFrame'>\n",
      "RangeIndex: 1030 entries, 0 to 1029\n",
      "Data columns (total 9 columns):\n",
      " #   Column                                                 Non-Null Count  Dtype  \n",
      "---  ------                                                 --------------  -----  \n",
      " 0   Cement (component 1)(kg in a m^3 mixture)              1030 non-null   float64\n",
      " 1   Blast Furnace Slag (component 2)(kg in a m^3 mixture)  1030 non-null   float64\n",
      " 2   Fly Ash (component 3)(kg in a m^3 mixture)             1030 non-null   float64\n",
      " 3   Water  (component 4)(kg in a m^3 mixture)              1030 non-null   float64\n",
      " 4   Superplasticizer (component 5)(kg in a m^3 mixture)    1030 non-null   float64\n",
      " 5   Coarse Aggregate  (component 6)(kg in a m^3 mixture)   1030 non-null   float64\n",
      " 6   Fine Aggregate (component 7)(kg in a m^3 mixture)      1030 non-null   float64\n",
      " 7   Age_days                                               1030 non-null   int64  \n",
      " 8   Concrete compressive strength_Mpa                      1030 non-null   float64\n",
      "dtypes: float64(8), int64(1)\n",
      "memory usage: 72.5 KB\n"
     ]
    },
    {
     "data": {
      "text/plain": [
       "(None,\n",
       "        Cement (component 1)(kg in a m^3 mixture)  \\\n",
       " count                                1030.000000   \n",
       " mean                                  281.167864   \n",
       " std                                   104.506364   \n",
       " min                                   102.000000   \n",
       " 25%                                   192.375000   \n",
       " 50%                                   272.900000   \n",
       " 75%                                   350.000000   \n",
       " max                                   540.000000   \n",
       " \n",
       "        Blast Furnace Slag (component 2)(kg in a m^3 mixture)  \\\n",
       " count                                        1030.000000       \n",
       " mean                                           73.895825       \n",
       " std                                            86.279342       \n",
       " min                                             0.000000       \n",
       " 25%                                             0.000000       \n",
       " 50%                                            22.000000       \n",
       " 75%                                           142.950000       \n",
       " max                                           359.400000       \n",
       " \n",
       "        Fly Ash (component 3)(kg in a m^3 mixture)  \\\n",
       " count                                 1030.000000   \n",
       " mean                                    54.188350   \n",
       " std                                     63.997004   \n",
       " min                                      0.000000   \n",
       " 25%                                      0.000000   \n",
       " 50%                                      0.000000   \n",
       " 75%                                    118.300000   \n",
       " max                                    200.100000   \n",
       " \n",
       "        Water  (component 4)(kg in a m^3 mixture)  \\\n",
       " count                                1030.000000   \n",
       " mean                                  181.567282   \n",
       " std                                    21.354219   \n",
       " min                                   121.800000   \n",
       " 25%                                   164.900000   \n",
       " 50%                                   185.000000   \n",
       " 75%                                   192.000000   \n",
       " max                                   247.000000   \n",
       " \n",
       "        Superplasticizer (component 5)(kg in a m^3 mixture)  \\\n",
       " count                                        1030.000000     \n",
       " mean                                            6.204660     \n",
       " std                                             5.973841     \n",
       " min                                             0.000000     \n",
       " 25%                                             0.000000     \n",
       " 50%                                             6.400000     \n",
       " 75%                                            10.200000     \n",
       " max                                            32.200000     \n",
       " \n",
       "        Coarse Aggregate  (component 6)(kg in a m^3 mixture)  \\\n",
       " count                                        1030.000000      \n",
       " mean                                          972.918932      \n",
       " std                                            77.753954      \n",
       " min                                           801.000000      \n",
       " 25%                                           932.000000      \n",
       " 50%                                           968.000000      \n",
       " 75%                                          1029.400000      \n",
       " max                                          1145.000000      \n",
       " \n",
       "        Fine Aggregate (component 7)(kg in a m^3 mixture)     Age_days  \\\n",
       " count                                        1030.000000  1030.000000   \n",
       " mean                                          773.580485    45.662136   \n",
       " std                                            80.175980    63.169912   \n",
       " min                                           594.000000     1.000000   \n",
       " 25%                                           730.950000     7.000000   \n",
       " 50%                                           779.500000    28.000000   \n",
       " 75%                                           824.000000    56.000000   \n",
       " max                                           992.600000   365.000000   \n",
       " \n",
       "        Concrete compressive strength_Mpa  \n",
       " count                        1030.000000  \n",
       " mean                           35.817961  \n",
       " std                            16.705742  \n",
       " min                             2.330000  \n",
       " 25%                            23.710000  \n",
       " 50%                            34.445000  \n",
       " 75%                            46.135000  \n",
       " max                            82.600000  )"
      ]
     },
     "execution_count": 2,
     "metadata": {},
     "output_type": "execute_result"
    }
   ],
   "source": [
    "# read csv and preview\n",
    "df = pd.read_csv('Concrete_Data.csv')\n",
    "df.info(), df.describe()"
   ]
  },
  {
   "cell_type": "code",
   "execution_count": 3,
   "id": "41da9d51-df47-4028-b44a-48b72e7ce291",
   "metadata": {},
   "outputs": [
    {
     "data": {
      "text/html": [
       "<div>\n",
       "<style scoped>\n",
       "    .dataframe tbody tr th:only-of-type {\n",
       "        vertical-align: middle;\n",
       "    }\n",
       "\n",
       "    .dataframe tbody tr th {\n",
       "        vertical-align: top;\n",
       "    }\n",
       "\n",
       "    .dataframe thead th {\n",
       "        text-align: right;\n",
       "    }\n",
       "</style>\n",
       "<table border=\"1\" class=\"dataframe\">\n",
       "  <thead>\n",
       "    <tr style=\"text-align: right;\">\n",
       "      <th></th>\n",
       "      <th>Cement</th>\n",
       "      <th>Blast Furnace Slag</th>\n",
       "      <th>Fly Ash</th>\n",
       "      <th>Water</th>\n",
       "      <th>Superplasticizer</th>\n",
       "      <th>Coarse Aggregate</th>\n",
       "      <th>Fine Aggregate</th>\n",
       "      <th>Age</th>\n",
       "      <th>Concrete Compressive Strength</th>\n",
       "    </tr>\n",
       "  </thead>\n",
       "  <tbody>\n",
       "    <tr>\n",
       "      <th>0</th>\n",
       "      <td>540.0</td>\n",
       "      <td>0.0</td>\n",
       "      <td>0.0</td>\n",
       "      <td>162.0</td>\n",
       "      <td>2.5</td>\n",
       "      <td>1040.0</td>\n",
       "      <td>676.0</td>\n",
       "      <td>28</td>\n",
       "      <td>79.99</td>\n",
       "    </tr>\n",
       "    <tr>\n",
       "      <th>1</th>\n",
       "      <td>540.0</td>\n",
       "      <td>0.0</td>\n",
       "      <td>0.0</td>\n",
       "      <td>162.0</td>\n",
       "      <td>2.5</td>\n",
       "      <td>1055.0</td>\n",
       "      <td>676.0</td>\n",
       "      <td>28</td>\n",
       "      <td>61.89</td>\n",
       "    </tr>\n",
       "    <tr>\n",
       "      <th>2</th>\n",
       "      <td>332.5</td>\n",
       "      <td>142.5</td>\n",
       "      <td>0.0</td>\n",
       "      <td>228.0</td>\n",
       "      <td>0.0</td>\n",
       "      <td>932.0</td>\n",
       "      <td>594.0</td>\n",
       "      <td>270</td>\n",
       "      <td>40.27</td>\n",
       "    </tr>\n",
       "    <tr>\n",
       "      <th>3</th>\n",
       "      <td>332.5</td>\n",
       "      <td>142.5</td>\n",
       "      <td>0.0</td>\n",
       "      <td>228.0</td>\n",
       "      <td>0.0</td>\n",
       "      <td>932.0</td>\n",
       "      <td>594.0</td>\n",
       "      <td>365</td>\n",
       "      <td>41.05</td>\n",
       "    </tr>\n",
       "    <tr>\n",
       "      <th>4</th>\n",
       "      <td>198.6</td>\n",
       "      <td>132.4</td>\n",
       "      <td>0.0</td>\n",
       "      <td>192.0</td>\n",
       "      <td>0.0</td>\n",
       "      <td>978.4</td>\n",
       "      <td>825.5</td>\n",
       "      <td>360</td>\n",
       "      <td>44.30</td>\n",
       "    </tr>\n",
       "    <tr>\n",
       "      <th>...</th>\n",
       "      <td>...</td>\n",
       "      <td>...</td>\n",
       "      <td>...</td>\n",
       "      <td>...</td>\n",
       "      <td>...</td>\n",
       "      <td>...</td>\n",
       "      <td>...</td>\n",
       "      <td>...</td>\n",
       "      <td>...</td>\n",
       "    </tr>\n",
       "    <tr>\n",
       "      <th>1025</th>\n",
       "      <td>276.4</td>\n",
       "      <td>116.0</td>\n",
       "      <td>90.3</td>\n",
       "      <td>179.6</td>\n",
       "      <td>8.9</td>\n",
       "      <td>870.1</td>\n",
       "      <td>768.3</td>\n",
       "      <td>28</td>\n",
       "      <td>44.28</td>\n",
       "    </tr>\n",
       "    <tr>\n",
       "      <th>1026</th>\n",
       "      <td>322.2</td>\n",
       "      <td>0.0</td>\n",
       "      <td>115.6</td>\n",
       "      <td>196.0</td>\n",
       "      <td>10.4</td>\n",
       "      <td>817.9</td>\n",
       "      <td>813.4</td>\n",
       "      <td>28</td>\n",
       "      <td>31.18</td>\n",
       "    </tr>\n",
       "    <tr>\n",
       "      <th>1027</th>\n",
       "      <td>148.5</td>\n",
       "      <td>139.4</td>\n",
       "      <td>108.6</td>\n",
       "      <td>192.7</td>\n",
       "      <td>6.1</td>\n",
       "      <td>892.4</td>\n",
       "      <td>780.0</td>\n",
       "      <td>28</td>\n",
       "      <td>23.70</td>\n",
       "    </tr>\n",
       "    <tr>\n",
       "      <th>1028</th>\n",
       "      <td>159.1</td>\n",
       "      <td>186.7</td>\n",
       "      <td>0.0</td>\n",
       "      <td>175.6</td>\n",
       "      <td>11.3</td>\n",
       "      <td>989.6</td>\n",
       "      <td>788.9</td>\n",
       "      <td>28</td>\n",
       "      <td>32.77</td>\n",
       "    </tr>\n",
       "    <tr>\n",
       "      <th>1029</th>\n",
       "      <td>260.9</td>\n",
       "      <td>100.5</td>\n",
       "      <td>78.3</td>\n",
       "      <td>200.6</td>\n",
       "      <td>8.6</td>\n",
       "      <td>864.5</td>\n",
       "      <td>761.5</td>\n",
       "      <td>28</td>\n",
       "      <td>32.40</td>\n",
       "    </tr>\n",
       "  </tbody>\n",
       "</table>\n",
       "<p>1030 rows × 9 columns</p>\n",
       "</div>"
      ],
      "text/plain": [
       "      Cement  Blast Furnace Slag  Fly Ash  Water  Superplasticizer  \\\n",
       "0      540.0                 0.0      0.0  162.0               2.5   \n",
       "1      540.0                 0.0      0.0  162.0               2.5   \n",
       "2      332.5               142.5      0.0  228.0               0.0   \n",
       "3      332.5               142.5      0.0  228.0               0.0   \n",
       "4      198.6               132.4      0.0  192.0               0.0   \n",
       "...      ...                 ...      ...    ...               ...   \n",
       "1025   276.4               116.0     90.3  179.6               8.9   \n",
       "1026   322.2                 0.0    115.6  196.0              10.4   \n",
       "1027   148.5               139.4    108.6  192.7               6.1   \n",
       "1028   159.1               186.7      0.0  175.6              11.3   \n",
       "1029   260.9               100.5     78.3  200.6               8.6   \n",
       "\n",
       "      Coarse Aggregate  Fine Aggregate  Age  Concrete Compressive Strength  \n",
       "0               1040.0           676.0   28                          79.99  \n",
       "1               1055.0           676.0   28                          61.89  \n",
       "2                932.0           594.0  270                          40.27  \n",
       "3                932.0           594.0  365                          41.05  \n",
       "4                978.4           825.5  360                          44.30  \n",
       "...                ...             ...  ...                            ...  \n",
       "1025             870.1           768.3   28                          44.28  \n",
       "1026             817.9           813.4   28                          31.18  \n",
       "1027             892.4           780.0   28                          23.70  \n",
       "1028             989.6           788.9   28                          32.77  \n",
       "1029             864.5           761.5   28                          32.40  \n",
       "\n",
       "[1030 rows x 9 columns]"
      ]
     },
     "execution_count": 3,
     "metadata": {},
     "output_type": "execute_result"
    }
   ],
   "source": [
    "# rename comlumns\n",
    "column_names = ['Cement','Blast Furnace Slag', 'Fly Ash', 'Water', 'Superplasticizer', 'Coarse Aggregate', 'Fine Aggregate', 'Age', 'Concrete Compressive Strength']\n",
    "df.columns = column_names\n",
    "df"
   ]
  },
  {
   "cell_type": "code",
   "execution_count": 4,
   "id": "ffc9018b-2c01-43be-99ee-2d9661e49545",
   "metadata": {},
   "outputs": [
    {
     "name": "stdout",
     "output_type": "stream",
     "text": [
      "Data: (1030, 8)\n",
      "[[ 540.     0.     0.  ... 1040.   676.    28. ]\n",
      " [ 540.     0.     0.  ... 1055.   676.    28. ]\n",
      " [ 332.5  142.5    0.  ...  932.   594.   270. ]\n",
      " ...\n",
      " [ 148.5  139.4  108.6 ...  892.4  780.    28. ]\n",
      " [ 159.1  186.7    0.  ...  989.6  788.9   28. ]\n",
      " [ 260.9  100.5   78.3 ...  864.5  761.5   28. ]]\n",
      "Labels: (1030,)\n",
      "[79.99 61.89 40.27 ... 23.7  32.77 32.4 ]\n"
     ]
    }
   ],
   "source": [
    "# create data and labels for model\n",
    "X = df.drop(columns='Concrete Compressive Strength').to_numpy()\n",
    "y = df['Concrete Compressive Strength'].to_numpy()\n",
    "print(f\"Data: {X.shape}\\n{X}\\nLabels: {y.shape}\\n{y}\")"
   ]
  },
  {
   "cell_type": "code",
   "execution_count": 5,
   "id": "44605cc7-8bcc-4e35-958f-f9f86b4c3101",
   "metadata": {},
   "outputs": [
    {
     "name": "stdout",
     "output_type": "stream",
     "text": [
      "X-train shape: (824, 8)\n",
      "X-test shape: (206, 8)\n",
      "y-train shape: (824,)\n",
      "y-test shape: (206,)\n"
     ]
    }
   ],
   "source": [
    "# create test and train data\n",
    "X_train, X_test, y_train, y_test = train_test_split(X,y,test_size=0.2,random_state=42)\n",
    "print(f\"X-train shape: {X_train.shape}\\nX-test shape: {X_test.shape}\\ny-train shape: {y_train.shape}\\ny-test shape: {y_test.shape}\")"
   ]
  },
  {
   "cell_type": "code",
   "execution_count": 6,
   "id": "f7ed17b5-aa82-4d1f-bad3-f8f9cccfcdc5",
   "metadata": {},
   "outputs": [
    {
     "name": "stdout",
     "output_type": "stream",
     "text": [
      "Scaled Data: (824, 8)[[-1.16087734  0.85738747  0.9824489  ... -0.25746155 -0.64752011\n",
      "  -0.27567315]\n",
      " [ 1.30862304 -0.60249189  1.23259821 ... -1.92694961 -0.2731482\n",
      "  -0.27567315]\n",
      " [-0.0768653  -0.85558366  1.06687429 ...  1.01785948  0.06662828\n",
      "  -0.68931339]\n",
      " ...\n",
      " [-0.86591441 -0.85558366  1.12628475 ...  1.34082214  0.33103616\n",
      "   0.91561074]\n",
      " [ 1.78316909  0.51111191 -0.83113361 ... -1.54422615  0.11605031\n",
      "  -0.27567315]\n",
      " [ 0.28509237 -0.85558366  0.9355459  ... -0.6172979   0.13458358\n",
      "  -0.27567315]]\n",
      "(206, 8)[[-0.07038256  0.50366328 -0.91352378 ... -0.52017165 -1.42957365\n",
      "   4.33092738]\n",
      " [ 0.99259918  1.40290609 -0.91352378 ... -0.34813789 -0.30913641\n",
      "  -0.58597763]\n",
      " [ 1.29300707  1.40290609 -0.91352378 ... -0.34813789 -0.30913641\n",
      "  -0.29755583]\n",
      " ...\n",
      " [ 0.15299766  1.54558594 -0.91352378 ...  0.46326545  0.31637575\n",
      "  -0.58597763]\n",
      " [ 1.66824182 -0.5994079   1.15488362 ... -2.01022787 -0.38487692\n",
      "   0.08700658]\n",
      " [ 0.73290592 -0.86318579 -0.91352378 ... -0.03251689  0.01994306\n",
      "   0.55397521]]\n"
     ]
    }
   ],
   "source": [
    "# scale data\n",
    "scaley_boi = StandardScaler()\n",
    "X_train = scaley_boi.fit_transform(X_train)\n",
    "X_test = scaley_boi.fit_transform(X_test)\n",
    "X_scaled = scaley_boi.fit_transform(X)\n",
    "print(f\"Scaled Data: {X_train.shape}{X_train}\\n{X_test.shape}{X_test}\")"
   ]
  },
  {
   "cell_type": "code",
   "execution_count": 9,
   "id": "74e11b82-0128-4c90-afd3-e6700483622b",
   "metadata": {},
   "outputs": [
    {
     "name": "stdout",
     "output_type": "stream",
     "text": [
      "Train RMSE: 10.518787334819802\n",
      "Test RMSE: 9.908779663955189\n"
     ]
    }
   ],
   "source": [
    "# linear regression and RMSE\n",
    "linny_reggie = LinearRegression()\n",
    "linny_reggie.fit(X_train,y_train)\n",
    "train_pred = linny_reggie.predict(X_train)\n",
    "test_pred = linny_reggie.predict(X_test)\n",
    "RMSE_train = np.sqrt(mean_squared_error(train_pred,y_train))\n",
    "RMSE_test = np.sqrt(mean_squared_error(test_pred,y_test))\n",
    "print(f\"Train RMSE: {RMSE_train}\\nTest RMSE: {RMSE_test}\")"
   ]
  },
  {
   "cell_type": "code",
   "execution_count": 10,
   "id": "8a394046-0345-4dae-94dc-1ae4aaf30ba1",
   "metadata": {},
   "outputs": [
    {
     "name": "stdout",
     "output_type": "stream",
     "text": [
      "Principal Components Shape: (1030, 7)\n"
     ]
    }
   ],
   "source": [
    "# PCA with 7 components\n",
    "pca_boi = PCA(n_components=7,random_state=33)\n",
    "principal_comps = pca_boi.fit_transform(X_scaled)\n",
    "print(f\"Principal Components Shape: {principal_comps.shape}\")"
   ]
  },
  {
   "cell_type": "code",
   "execution_count": 11,
   "id": "1bcfa736-285d-4ed5-ade0-428ba14a01be",
   "metadata": {},
   "outputs": [],
   "source": [
    "# pca with all components for plot\n",
    "pca_each_and_every = PCA(n_components=8,random_state=33)\n",
    "prin_comp_eae = pca_each_and_every.fit_transform(X_scaled)"
   ]
  },
  {
   "cell_type": "code",
   "execution_count": 14,
   "id": "9aad3234-61b6-40a2-8d17-689d6bacc115",
   "metadata": {},
   "outputs": [
    {
     "data": {
      "image/png": "[encoded data removed]",
      "text/plain": [
       "<Figure size 500x500 with 1 Axes>"
      ]
     },
     "metadata": {},
     "output_type": "display_data"
    }
   ],
   "source": [
    "# cumulative explained variance chart\n",
    "plt.figure(figsize=(5,5))\n",
    "plt.plot(np.cumsum(pca_each_and_every.explained_variance_ratio_),marker='x')\n",
    "plt.title('Cumulative Explained Variance')\n",
    "plt.xlabel('Number of Components')\n",
    "plt.ylabel('Cumulative Explained Variance')\n",
    "plt.show()"
   ]
  },
  {
   "cell_type": "code",
   "execution_count": 15,
   "id": "5c8ca0a8-b784-4188-9c4c-03d318f0fa9e",
   "metadata": {},
   "outputs": [],
   "source": [
    "# pca with 5 components\n",
    "pca_5 = PCA(n_components=5,random_state=33)\n",
    "prin_comp_5 = pca_5.fit_transform(X_scaled)"
   ]
  },
  {
   "cell_type": "code",
   "execution_count": 16,
   "id": "f4da42ae-1d6b-49bf-93f5-14ab3a36b6f8",
   "metadata": {},
   "outputs": [],
   "source": [
    "# data for other lin reg\n",
    "X_train2, X_test2, y_train2, y_test2 = train_test_split(prin_comp_5,y,test_size=0.2,random_state=42)"
   ]
  },
  {
   "cell_type": "code",
   "execution_count": 17,
   "id": "be905f93-faa7-4e32-b987-87dc76402595",
   "metadata": {},
   "outputs": [
    {
     "name": "stdout",
     "output_type": "stream",
     "text": [
      "Train RMSE: 12.644621230527768\n",
      "Test RMSE: 11.955881641469228\n"
     ]
    }
   ],
   "source": [
    "# linear regression and RMSE\n",
    "linny_reggie2 = LinearRegression()\n",
    "linny_reggie2.fit(X_train2,y_train2)\n",
    "train_pred2 = linny_reggie2.predict(X_train2)\n",
    "test_pred2 = linny_reggie2.predict(X_test2)\n",
    "RMSE_train2 = np.sqrt(mean_squared_error(train_pred2,y_train2))\n",
    "RMSE_test2 = np.sqrt(mean_squared_error(test_pred2,y_test2))\n",
    "print(f\"Train RMSE: {RMSE_train2}\\nTest RMSE: {RMSE_test2}\")"
   ]
  },
  {
   "cell_type": "code",
   "execution_count": 18,
   "id": "770913ed-5cb7-43b0-b260-4948c7fc979a",
   "metadata": {},
   "outputs": [
    {
     "name": "stdout",
     "output_type": "stream",
     "text": [
      "Train RMSE Difference: 0.1835510425601361\n",
      "Test RMSE Difference: 0.18725210959532881\n"
     ]
    }
   ],
   "source": [
    "# difference\n",
    "trd = np.abs((RMSE_train-RMSE_train2))/((RMSE_train+RMSE_train2)/2)\n",
    "ted = np.abs((RMSE_test-RMSE_test2))/((RMSE_test+RMSE_test2)/2)\n",
    "print(f\"Train RMSE Difference: {trd}\\nTest RMSE Difference: {ted}\")"
   ]
  },
  {
   "cell_type": "code",
   "execution_count": null,
   "id": "de093335-3087-45c1-bf49-799908c219e5",
   "metadata": {},
   "outputs": [],
   "source": []
  }
 ],
 "metadata": {
  "kernelspec": {
   "display_name": "Python 3 (ipykernel)",
   "language": "python",
   "name": "python3"
  },
  "language_info": {
   "codemirror_mode": {
    "name": "ipython",
    "version": 3
   },
   "file_extension": ".py",
   "mimetype": "text/x-python",
   "name": "python",
   "nbconvert_exporter": "python",
   "pygments_lexer": "ipython3",
   "version": "3.10.12"
  }
 },
 "nbformat": 4,
 "nbformat_minor": 5
}
